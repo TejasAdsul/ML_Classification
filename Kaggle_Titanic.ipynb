{
  "nbformat": 4,
  "nbformat_minor": 0,
  "metadata": {
    "colab": {
      "name": "Kaggle_Titanic.ipynb",
      "provenance": [],
      "collapsed_sections": [],
      "mount_file_id": "1M5fGK5XU6UZmzv7KN1Flog5AWY2Nq4dE",
      "authorship_tag": "ABX9TyMD4X9K8+l84hcwljWo8rig",
      "include_colab_link": true
    },
    "kernelspec": {
      "name": "python3",
      "display_name": "Python 3"
    }
  },
  "cells": [
    {
      "cell_type": "markdown",
      "metadata": {
        "id": "view-in-github",
        "colab_type": "text"
      },
      "source": [
        "<a href=\"https://colab.research.google.com/github/TejasAdsul/ML_Classification/blob/main/Kaggle_Titanic.ipynb\" target=\"_parent\"><img src=\"https://colab.research.google.com/assets/colab-badge.svg\" alt=\"Open In Colab\"/></a>"
      ]
    },
    {
      "cell_type": "code",
      "metadata": {
        "id": "o8Fuo7DiUrWK"
      },
      "source": [
        "import pandas as pd\n",
        "import numpy as np\n",
        "import matplotlib.pyplot as plt\n",
        "import seaborn as sns"
      ],
      "execution_count": null,
      "outputs": []
    },
    {
      "cell_type": "code",
      "metadata": {
        "colab": {
          "base_uri": "https://localhost:8080/"
        },
        "id": "v4auUtvDUvJY",
        "outputId": "41cc8be2-16e9-484b-eb82-dd59eac2fa4e"
      },
      "source": [
        "# Import the dataset, print head() to get a first look, print shape attribute to find number of rows and columns, \n",
        "# print columns attribute to get the names of all the columns\n",
        "df = pd.read_csv('/content/sample_data/train.csv')\n",
        "print(df.head(),'\\n')\n",
        "print(df.info(),'\\n')\n",
        "print(df.columns)"
      ],
      "execution_count": null,
      "outputs": [
        {
          "output_type": "stream",
          "text": [
            "   PassengerId  Survived  Pclass  ...     Fare Cabin  Embarked\n",
            "0            1         0       3  ...   7.2500   NaN         S\n",
            "1            2         1       1  ...  71.2833   C85         C\n",
            "2            3         1       3  ...   7.9250   NaN         S\n",
            "3            4         1       1  ...  53.1000  C123         S\n",
            "4            5         0       3  ...   8.0500   NaN         S\n",
            "\n",
            "[5 rows x 12 columns] \n",
            "\n",
            "<class 'pandas.core.frame.DataFrame'>\n",
            "RangeIndex: 891 entries, 0 to 890\n",
            "Data columns (total 12 columns):\n",
            " #   Column       Non-Null Count  Dtype  \n",
            "---  ------       --------------  -----  \n",
            " 0   PassengerId  891 non-null    int64  \n",
            " 1   Survived     891 non-null    int64  \n",
            " 2   Pclass       891 non-null    int64  \n",
            " 3   Name         891 non-null    object \n",
            " 4   Sex          891 non-null    object \n",
            " 5   Age          714 non-null    float64\n",
            " 6   SibSp        891 non-null    int64  \n",
            " 7   Parch        891 non-null    int64  \n",
            " 8   Ticket       891 non-null    object \n",
            " 9   Fare         891 non-null    float64\n",
            " 10  Cabin        204 non-null    object \n",
            " 11  Embarked     889 non-null    object \n",
            "dtypes: float64(2), int64(5), object(5)\n",
            "memory usage: 83.7+ KB\n",
            "None \n",
            "\n",
            "Index(['PassengerId', 'Survived', 'Pclass', 'Name', 'Sex', 'Age', 'SibSp',\n",
            "       'Parch', 'Ticket', 'Fare', 'Cabin', 'Embarked'],\n",
            "      dtype='object')\n"
          ],
          "name": "stdout"
        }
      ]
    },
    {
      "cell_type": "code",
      "metadata": {
        "colab": {
          "base_uri": "https://localhost:8080/"
        },
        "id": "KEKJqq4wU1oZ",
        "outputId": "89beedc7-ebf4-4b4b-d4d5-18de4ca354b6"
      },
      "source": [
        "# Remove unimportant columns\n",
        "df_req = df.drop(['PassengerId','Name','Cabin','Ticket'],axis=1)\n",
        "print(df_req.head())"
      ],
      "execution_count": null,
      "outputs": [
        {
          "output_type": "stream",
          "text": [
            "   Survived  Pclass     Sex   Age  SibSp  Parch     Fare Embarked\n",
            "0         0       3    male  22.0      1      0   7.2500        S\n",
            "1         1       1  female  38.0      1      0  71.2833        C\n",
            "2         1       3  female  26.0      0      0   7.9250        S\n",
            "3         1       1  female  35.0      1      0  53.1000        S\n",
            "4         0       3    male  35.0      0      0   8.0500        S\n"
          ],
          "name": "stdout"
        }
      ]
    },
    {
      "cell_type": "code",
      "metadata": {
        "colab": {
          "base_uri": "https://localhost:8080/"
        },
        "id": "79ozNKn5oA8y",
        "outputId": "85f25115-21a3-4c34-9b42-fecf486e6303"
      },
      "source": [
        "# Remove or replace rows containing NaNs as applicable\n",
        "df_req.Embarked.fillna(df_req.Embarked.value_counts().idxmax(),inplace=True)\n",
        "df_req.Age.fillna(df_req.Age.median(),inplace=True)\n",
        "df_req.info()"
      ],
      "execution_count": null,
      "outputs": [
        {
          "output_type": "stream",
          "text": [
            "<class 'pandas.core.frame.DataFrame'>\n",
            "RangeIndex: 891 entries, 0 to 890\n",
            "Data columns (total 8 columns):\n",
            " #   Column    Non-Null Count  Dtype  \n",
            "---  ------    --------------  -----  \n",
            " 0   Survived  891 non-null    int64  \n",
            " 1   Pclass    891 non-null    int64  \n",
            " 2   Sex       891 non-null    object \n",
            " 3   Age       891 non-null    float64\n",
            " 4   SibSp     891 non-null    int64  \n",
            " 5   Parch     891 non-null    int64  \n",
            " 6   Fare      891 non-null    float64\n",
            " 7   Embarked  891 non-null    object \n",
            "dtypes: float64(2), int64(4), object(2)\n",
            "memory usage: 55.8+ KB\n"
          ],
          "name": "stdout"
        }
      ]
    },
    {
      "cell_type": "code",
      "metadata": {
        "colab": {
          "base_uri": "https://localhost:8080/"
        },
        "id": "GYqcXgf2pcaY",
        "outputId": "35406bcc-a27a-4de9-a472-8faea85ce95f"
      },
      "source": [
        "# Change object columns to category type wherever applicable\n",
        "print(df_req.nunique(),'\\n')\n",
        "cols = [1,2,7]\n",
        "for col in cols:\n",
        "  df_req.iloc[:,col] = df_req.iloc[:,col].astype('category')\n",
        "print(df_req.dtypes)"
      ],
      "execution_count": null,
      "outputs": [
        {
          "output_type": "stream",
          "text": [
            "Survived      2\n",
            "Pclass        3\n",
            "Sex           2\n",
            "Age          88\n",
            "SibSp         7\n",
            "Parch         7\n",
            "Fare        248\n",
            "Embarked      3\n",
            "dtype: int64 \n",
            "\n",
            "Survived       int64\n",
            "Pclass      category\n",
            "Sex         category\n",
            "Age          float64\n",
            "SibSp          int64\n",
            "Parch          int64\n",
            "Fare         float64\n",
            "Embarked    category\n",
            "dtype: object\n"
          ],
          "name": "stdout"
        }
      ]
    },
    {
      "cell_type": "code",
      "metadata": {
        "colab": {
          "base_uri": "https://localhost:8080/",
          "height": 281
        },
        "id": "q7OCQFKXuOp0",
        "outputId": "89b8d148-0fc5-4921-9098-f216731cf029"
      },
      "source": [
        "# Plot countplots of columns to see how many people are in each category and what proportion survived\n",
        "fig,ax = plt.subplots(1,5,figsize=(19,4))\n",
        "cols = ['Pclass','Sex','SibSp','Parch','Embarked']\n",
        "for idx,col in enumerate(cols):\n",
        "  sum = df_req.groupby(col)['Survived'].sum()\n",
        "  count = df_req.groupby(col)['Survived'].count()\n",
        "  x = sum.reset_index()[col]\n",
        "  h = np.array(sum)\n",
        "  b = np.array(count)\n",
        "  ax[idx].bar(x=x,height=h,label='Survived')\n",
        "  ax[idx].bar(x=x,height=b-h,bottom=h,label='Did Not Survive')\n",
        "  ax[idx].set_xlabel(col)\n",
        "  ax[idx].legend()\n",
        "plt.show()"
      ],
      "execution_count": null,
      "outputs": [
        {
          "output_type": "display_data",
          "data": {
            "image/png": "[encoded data removed]",
            "text/plain": [
              "<Figure size 1368x288 with 5 Axes>"
            ]
          },
          "metadata": {
            "tags": [],
            "needs_background": "light"
          }
        }
      ]
    },
    {
      "cell_type": "code",
      "metadata": {
        "colab": {
          "base_uri": "https://localhost:8080/",
          "height": 320
        },
        "id": "S3zncYwdYuj8",
        "outputId": "cc2c8f23-953a-4f55-c241-ec85a5ff5aef"
      },
      "source": [
        "# Plot age and fare to understand their statistics\n",
        "fix,ax = plt.subplots(1,2,figsize=(10,5))\n",
        "ax[0].boxplot(df_req['Age'])\n",
        "ax[0].set_xticklabels(['Age'])\n",
        "ax[1].boxplot(df_req['Fare'])\n",
        "ax[1].set_xticklabels(['Fare'])\n",
        "plt.show()"
      ],
      "execution_count": null,
      "outputs": [
        {
          "output_type": "display_data",
          "data": {
            "image/png": "[encoded data removed]",
            "text/plain": [
              "<Figure size 720x360 with 2 Axes>"
            ]
          },
          "metadata": {
            "tags": [],
            "needs_background": "light"
          }
        }
      ]
    },
    {
      "cell_type": "code",
      "metadata": {
        "colab": {
          "base_uri": "https://localhost:8080/"
        },
        "id": "cl7GcVKWbTct",
        "outputId": "3d7e86b0-5bae-495b-fd3f-279137822399"
      },
      "source": [
        "# Find mean age and mean fare by class and sex, and what percentage survived in each\n",
        "print(df_req.groupby(['Pclass','Sex'])[['Age','Fare','Survived']].agg({'Age':'mean','Fare':'mean','Survived':'mean'}))"
      ],
      "execution_count": null,
      "outputs": [
        {
          "output_type": "stream",
          "text": [
            "                     Age        Fare  Survived\n",
            "Pclass Sex                                    \n",
            "1      female  33.978723  106.125798  0.968085\n",
            "       male    38.995246   67.226127  0.368852\n",
            "2      female  28.703947   21.970121  0.921053\n",
            "       male    30.512315   19.741782  0.157407\n",
            "3      female  23.572917   16.118810  0.500000\n",
            "       male    26.911873   12.661633  0.135447\n"
          ],
          "name": "stdout"
        }
      ]
    },
    {
      "cell_type": "code",
      "metadata": {
        "id": "EPA7n4QIfTJ8",
        "colab": {
          "base_uri": "https://localhost:8080/",
          "height": 195
        },
        "outputId": "20e472be-8cf6-4638-9d64-d91b8befd9d0"
      },
      "source": [
        "# Merge siblings, parents, children into one column\n",
        "df_req['family'] = df_req['SibSp'] + df_req['Parch']\n",
        "dr_req.drop(['SibSp','Parch'],axis=1,inplace=True)"
      ],
      "execution_count": null,
      "outputs": [
        {
          "output_type": "error",
          "ename": "NameError",
          "evalue": "ignored",
          "traceback": [
            "\u001b[0;31m---------------------------------------------------------------------------\u001b[0m",
            "\u001b[0;31mNameError\u001b[0m                                 Traceback (most recent call last)",
            "\u001b[0;32m<ipython-input-32-37a8979302f5>\u001b[0m in \u001b[0;36m<module>\u001b[0;34m()\u001b[0m\n\u001b[1;32m      1\u001b[0m \u001b[0;31m# Merge siblings, parents, children into one column\u001b[0m\u001b[0;34m\u001b[0m\u001b[0;34m\u001b[0m\u001b[0;34m\u001b[0m\u001b[0m\n\u001b[1;32m      2\u001b[0m \u001b[0mdf_req\u001b[0m\u001b[0;34m[\u001b[0m\u001b[0;34m'family'\u001b[0m\u001b[0;34m]\u001b[0m \u001b[0;34m=\u001b[0m \u001b[0mdf_req\u001b[0m\u001b[0;34m[\u001b[0m\u001b[0;34m'SibSp'\u001b[0m\u001b[0;34m]\u001b[0m \u001b[0;34m+\u001b[0m \u001b[0mdf_req\u001b[0m\u001b[0;34m[\u001b[0m\u001b[0;34m'Parch'\u001b[0m\u001b[0;34m]\u001b[0m\u001b[0;34m\u001b[0m\u001b[0;34m\u001b[0m\u001b[0m\n\u001b[0;32m----> 3\u001b[0;31m \u001b[0mdr_req\u001b[0m\u001b[0;34m.\u001b[0m\u001b[0mdrop\u001b[0m\u001b[0;34m(\u001b[0m\u001b[0;34m[\u001b[0m\u001b[0;34m'SibSp'\u001b[0m\u001b[0;34m,\u001b[0m\u001b[0;34m'Parch'\u001b[0m\u001b[0;34m]\u001b[0m\u001b[0;34m,\u001b[0m\u001b[0maxis\u001b[0m\u001b[0;34m=\u001b[0m\u001b[0;36m1\u001b[0m\u001b[0;34m,\u001b[0m\u001b[0minplace\u001b[0m\u001b[0;34m=\u001b[0m\u001b[0;32mTrue\u001b[0m\u001b[0;34m)\u001b[0m\u001b[0;34m\u001b[0m\u001b[0;34m\u001b[0m\u001b[0m\n\u001b[0m",
            "\u001b[0;31mNameError\u001b[0m: name 'dr_req' is not defined"
          ]
        }
      ]
    }
  ]
}